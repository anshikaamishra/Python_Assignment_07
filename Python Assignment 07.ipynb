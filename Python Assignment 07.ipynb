{
 "cells": [
  {
   "cell_type": "markdown",
   "id": "b922fb68-171a-45e9-84f6-2b0a1cf74898",
   "metadata": {},
   "source": [
    "## Python Assignment 07"
   ]
  },
  {
   "cell_type": "markdown",
   "id": "fc1637bd-a84b-4a8c-ad16-63afb1a00c03",
   "metadata": {},
   "source": [
    "**Q1. You are writing code for a company. The requirement of the company is that you create a python\n",
    "function that will check whether the password entered by the user is correct or not. The function should\n",
    "take the password as input and return the string “Valid Password” if the entered password follows the\n",
    "below-given password guidelines else it should return “Invalid Password”.**\n",
    "\n",
    "Note:\n",
    "1. The Password should contain at least two uppercase letters and at least two lowercase letters.\n",
    "2. The Password should contain at least a number and three special characters.\n",
    "3. The length of the password should be 10 characters long."
   ]
  },
  {
   "cell_type": "code",
   "execution_count": 1,
   "id": "7acacc96-59f0-42a7-8fbe-a1011062a7b3",
   "metadata": {},
   "outputs": [
    {
     "name": "stdin",
     "output_type": "stream",
     "text": [
      "Enter your password hbjbfjvjbkvnj\n"
     ]
    },
    {
     "name": "stdout",
     "output_type": "stream",
     "text": [
      "The length of the password should be 10 characters long.\n",
      "The Password should contain at least two uppercase letters and at least two lowercase letters.\n",
      "The Password should contain at least a number and three special characters.\n",
      "Invalid Password\n"
     ]
    }
   ],
   "source": [
    "\n",
    "def password_check(passwd) : \n",
    "    \n",
    "    System_spl = [\"@\", \"$\", \"%\", \"&\", \"#\", \"^\", \"!\", \"*\", \"<\", \">\", \"?\", \"~\"]\n",
    "    val = True\n",
    "    \n",
    "    # check if the length of the password is 10 characters long\n",
    "    if len(passwd) != 10 :\n",
    "        print(\"The length of the password should be 10 characters long.\")\n",
    "        val = False\n",
    "        \n",
    "    uppercase = 0\n",
    "    lowercase = 0\n",
    "    for char in passwd:\n",
    "        if char.isupper():\n",
    "            uppercase += 1\n",
    "        elif char.islower():\n",
    "            lowercase += 1\n",
    "    \n",
    "    # Check if the password contains at least 2 uppercase and 2 lowercase letters\n",
    "    if uppercase < 2 or lowercase < 2:\n",
    "        print(\"The Password should contain at least two uppercase letters and at least two lowercase letters.\")\n",
    "        val = False\n",
    "        \n",
    "    digit = 0\n",
    "    special = 0\n",
    "    for char in passwd :\n",
    "        if char.isdigit():\n",
    "            digit += 1\n",
    "        elif char in System_spl:\n",
    "            special += 1\n",
    "    \n",
    "    # Check if the password contains at least a number and 3 special characters\n",
    "    if digit < 1 or special < 3 :\n",
    "        print(\"The Password should contain at least a number and three special characters.\")\n",
    "        val = False\n",
    "    \n",
    "    if val:\n",
    "        print(\"Valid Password\")\n",
    "    else :\n",
    "        print(\"Invalid Password\")\n",
    "\n",
    "passwd = input(\"Enter your password\")\n",
    "pas = password_check(passwd)"
   ]
  },
  {
   "cell_type": "code",
   "execution_count": 2,
   "id": "3b4e6f30-e092-4ea2-82bc-878d6e231ffb",
   "metadata": {},
   "outputs": [
    {
     "name": "stdin",
     "output_type": "stream",
     "text": [
      "Enter your password gvhbvhfvbh\n"
     ]
    },
    {
     "name": "stdout",
     "output_type": "stream",
     "text": [
      "The Password should contain at least two uppercase letters and at least two lowercase letters.\n",
      "The Password should contain at least a number and three special characters.\n",
      "Invalid Password\n"
     ]
    }
   ],
   "source": [
    "import re\n",
    "\n",
    "def password_check(passwd) : \n",
    "    \n",
    "    val = True\n",
    "    \n",
    "    # check if the length of the password is 10 characters long\n",
    "    if len(passwd) != 10 :\n",
    "        print(\"The length of the password should be 10 characters long.\")\n",
    "        val = False\n",
    "    \n",
    "    uppercase_count = len(re.findall(r'[A-Z]', passwd))\n",
    "    lowercase_count = len(re.findall(r'[a-z]', passwd))\n",
    "    \n",
    "    # Check if the password contains at least 2 uppercase and 2 lowercase letters\n",
    "    if uppercase_count < 2 or lowercase_count < 2:\n",
    "        print(\"The Password should contain at least two uppercase letters and at least two lowercase letters.\")\n",
    "        val = False\n",
    "        \n",
    "    digit_count = len(re.findall(r'\\d', passwd))\n",
    "    special_count = len(re.findall(r'[^\\w\\s]', passwd))\n",
    "    \n",
    "    # Check if the password contains at least a number and 3 special characters\n",
    "    if digit_count < 1 or special_count < 3 :\n",
    "        print(\"The Password should contain at least a number and three special characters.\")\n",
    "        val = False\n",
    "        \n",
    "    if val:\n",
    "        print(\"Valid Password\")\n",
    "    else :\n",
    "        print(\"Invalid Password\")\n",
    "\n",
    "passwd = input(\"Enter your password\")\n",
    "pas = password_check(passwd)"
   ]
  },
  {
   "cell_type": "markdown",
   "id": "45fbbcc7-f6ee-44c8-8360-43ca15fdaf1d",
   "metadata": {},
   "source": [
    "**Q2. Solve the below-given questions using at least one of the following:**\n",
    "- Check if the string starts with a particular letter"
   ]
  },
  {
   "cell_type": "code",
   "execution_count": 12,
   "id": "08b6ef06-ac17-495f-b0cd-2782f6d0a7c8",
   "metadata": {},
   "outputs": [
    {
     "name": "stdin",
     "output_type": "stream",
     "text": [
      "Enter a string to check:  anshika\n"
     ]
    },
    {
     "name": "stdout",
     "output_type": "stream",
     "text": [
      "The string starts with letter 'a': True\n"
     ]
    }
   ],
   "source": [
    "string_check = lambda s: s.startswith(\"a\")\n",
    "\n",
    "string = input(\"Enter a string to check: \")\n",
    "print(\"The string starts with letter 'a':\",string_check(string))"
   ]
  },
  {
   "cell_type": "markdown",
   "id": "6eba1800-ae59-4676-b280-4b4d32db9fe4",
   "metadata": {},
   "source": [
    "- Check if the string is numeric"
   ]
  },
  {
   "cell_type": "code",
   "execution_count": 18,
   "id": "69dbdf93-04a3-4cae-a30b-4005537a0f66",
   "metadata": {},
   "outputs": [
    {
     "name": "stdin",
     "output_type": "stream",
     "text": [
      "Enter a string: 2157\n"
     ]
    },
    {
     "name": "stdout",
     "output_type": "stream",
     "text": [
      "The string is numeric: True\n"
     ]
    }
   ],
   "source": [
    "string = input(\"Enter a string:\")\n",
    "\n",
    "digit = lambda s : s.isdigit()\n",
    "print(\"The string is numeric:\",digit(string))"
   ]
  },
  {
   "cell_type": "markdown",
   "id": "e4e0956d-311c-481e-96c2-7e510b137238",
   "metadata": {},
   "source": [
    "-  Sort a list of tuples having fruit names and their quantity. [(\"mango\",99),(\"orange\",80), (\"grapes\", 1000)]"
   ]
  },
  {
   "cell_type": "code",
   "execution_count": 20,
   "id": "b728b640-c9d7-42ae-b0e4-34b0a9f50178",
   "metadata": {},
   "outputs": [
    {
     "name": "stdout",
     "output_type": "stream",
     "text": [
      "[('grapes', 1000), ('mango', 99), ('orange', 80)]\n"
     ]
    }
   ],
   "source": [
    "fruits = [(\"mango\",99),(\"orange\",80), (\"grapes\", 1000)]\n",
    "sorted_fruits = sorted(fruits, key = lambda x : x[1], reverse= True)\n",
    "\n",
    "print(sorted_fruits)"
   ]
  },
  {
   "cell_type": "markdown",
   "id": "ef4f794e-c3f8-44ce-ac7c-879a302f1ac0",
   "metadata": {},
   "source": [
    "- Find the squares of numbers from 1 to 10"
   ]
  },
  {
   "cell_type": "code",
   "execution_count": 31,
   "id": "a821f535-d97f-4e97-a372-302e1f3d8155",
   "metadata": {},
   "outputs": [
    {
     "name": "stdout",
     "output_type": "stream",
     "text": [
      "The squares of numbers from 1 to 10 are: [1, 4, 9, 16, 25, 36, 49, 64, 81, 100]\n"
     ]
    }
   ],
   "source": [
    "square = [x**2 for x in range(1, 11)]\n",
    "\n",
    "print(\"The squares of numbers from 1 to 10 are:\", square)"
   ]
  },
  {
   "cell_type": "markdown",
   "id": "e45109ca-ac68-4ca8-bf80-c20abe226cb4",
   "metadata": {},
   "source": [
    "- Find the cube root of numbers from 1 to 10"
   ]
  },
  {
   "cell_type": "code",
   "execution_count": 32,
   "id": "67c30468-0a2c-4e9a-8b90-2517eac0f2c3",
   "metadata": {},
   "outputs": [
    {
     "name": "stdout",
     "output_type": "stream",
     "text": [
      "The cube root of numbers from 1 to 10 are: [1.0, 1.2599210498948732, 1.4422495703074083, 1.5874010519681994, 1.7099759466766968, 1.8171205928321397, 1.912931182772389, 2.0, 2.080083823051904, 2.154434690031884]\n"
     ]
    }
   ],
   "source": [
    "cube = list(map(lambda x : x**(1/3), range(1, 11)))\n",
    "\n",
    "print(\"The cube root of numbers from 1 to 10 are:\", cube)"
   ]
  },
  {
   "cell_type": "markdown",
   "id": "23087865-7f64-457b-b998-c26d54e3a383",
   "metadata": {},
   "source": [
    "- Check if a given number is even "
   ]
  },
  {
   "cell_type": "code",
   "execution_count": 47,
   "id": "56905618-2dfc-4e1d-8ce3-98d15ab39a50",
   "metadata": {},
   "outputs": [
    {
     "name": "stdout",
     "output_type": "stream",
     "text": [
      "The number is even\n"
     ]
    }
   ],
   "source": [
    "\n",
    "even = lambda x : print(\"The number is even\") if x % 2 == 0 else print(\"The number is not even\")\n",
    "\n",
    "even(56)"
   ]
  },
  {
   "cell_type": "markdown",
   "id": "7aadc6b3-eb10-4501-813e-ccf5b04bf890",
   "metadata": {},
   "source": [
    "- Filter odd numbers from the given list.\n",
    "[ 1,2,3,4,5,6,7,8,9,10 ]"
   ]
  },
  {
   "cell_type": "code",
   "execution_count": 48,
   "id": "b1723094-18e4-4029-af3c-940f1e53a2c4",
   "metadata": {},
   "outputs": [
    {
     "name": "stdout",
     "output_type": "stream",
     "text": [
      "[1, 3, 5, 7, 9]\n"
     ]
    }
   ],
   "source": [
    "ls = [1,2,3,4,5,6,7,8,9,10]\n",
    "\n",
    "odd = list(filter(lambda x : x % 2 != 0, ls))\n",
    "print(odd)"
   ]
  },
  {
   "cell_type": "markdown",
   "id": "fc734c83-a41d-40bc-86f2-04935d97829b",
   "metadata": {},
   "source": [
    "- Sort a list of integers into positive and negative integers lists.\n",
    "[1,2,3,4,5,6,-1,-2,-3,-4,-5,0]"
   ]
  },
  {
   "cell_type": "code",
   "execution_count": 49,
   "id": "42fad07e-cc9c-4f21-bccd-db6deeff57bc",
   "metadata": {},
   "outputs": [],
   "source": [
    "l = [1,2,3,4,5,6,-1,-2,-3,-4,-5,0]\n",
    "\n",
    "l.sort()\n"
   ]
  },
  {
   "cell_type": "code",
   "execution_count": 50,
   "id": "d6f0163b-40dc-44b5-8378-55deb595c3e7",
   "metadata": {},
   "outputs": [
    {
     "data": {
      "text/plain": [
       "[-5, -4, -3, -2, -1, 0, 1, 2, 3, 4, 5, 6]"
      ]
     },
     "execution_count": 50,
     "metadata": {},
     "output_type": "execute_result"
    }
   ],
   "source": [
    "l"
   ]
  },
  {
   "cell_type": "code",
   "execution_count": 52,
   "id": "cd1f6d09-ea44-43ef-876c-c38ea289f647",
   "metadata": {},
   "outputs": [
    {
     "data": {
      "text/plain": [
       "[0, 1, 2, 3, 4, 5, 6]"
      ]
     },
     "execution_count": 52,
     "metadata": {},
     "output_type": "execute_result"
    }
   ],
   "source": [
    "list(filter(lambda x : x >= 0, l))"
   ]
  },
  {
   "cell_type": "code",
   "execution_count": 53,
   "id": "57116eb9-7f7c-4fa7-ac1e-8dd84e589f1c",
   "metadata": {},
   "outputs": [
    {
     "data": {
      "text/plain": [
       "[-5, -4, -3, -2, -1]"
      ]
     },
     "execution_count": 53,
     "metadata": {},
     "output_type": "execute_result"
    }
   ],
   "source": [
    "list(filter(lambda x : x < 0, l))"
   ]
  },
  {
   "cell_type": "code",
   "execution_count": null,
   "id": "fc0273ea-6a6b-40bd-b798-f08a6a39dcca",
   "metadata": {},
   "outputs": [],
   "source": []
  }
 ],
 "metadata": {
  "kernelspec": {
   "display_name": "Python 3 (ipykernel)",
   "language": "python",
   "name": "python3"
  },
  "language_info": {
   "codemirror_mode": {
    "name": "ipython",
    "version": 3
   },
   "file_extension": ".py",
   "mimetype": "text/x-python",
   "name": "python",
   "nbconvert_exporter": "python",
   "pygments_lexer": "ipython3",
   "version": "3.10.8"
  }
 },
 "nbformat": 4,
 "nbformat_minor": 5
}
